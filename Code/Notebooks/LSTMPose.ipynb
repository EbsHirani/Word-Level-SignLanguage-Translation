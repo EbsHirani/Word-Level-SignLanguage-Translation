{
  "cells": [
    {
      "cell_type": "code",
      "execution_count": null,
      "metadata": {
        "colab": {
          "base_uri": "https://localhost:8080/"
        },
        "id": "3bXCadX64jVx",
        "outputId": "0483a673-1367-45b7-d9bb-1cef5d4df01d"
      },
      "outputs": [
        {
          "name": "stdout",
          "output_type": "stream",
          "text": [
            "Mounted at /content/drive\n"
          ]
        }
      ],
      "source": [
        "from google.colab import drive\n",
        "drive.mount('/content/drive')"
      ]
    },
    {
      "cell_type": "code",
      "execution_count": null,
      "metadata": {
        "id": "8Gr_MWD552fD"
      },
      "outputs": [],
      "source": [
        "import pickle\n",
        "X = pickle.load(open(\"/content/drive/MyDrive/MP sign language/Results/X.pkl\", 'rb'))\n",
        "Y = pickle.load(open(\"/content/drive/MyDrive/MP sign language/Results/Y.pkl\", 'rb'))"
      ]
    },
    {
      "cell_type": "code",
      "execution_count": null,
      "metadata": {
        "id": "_d9l2X1pUY6t"
      },
      "outputs": [],
      "source": [
        "import pickle\n",
        "#VARIABLE SEQUENCE\n",
        "X = pickle.load(open(\"/content/drive/MyDrive/MP sign language/Results/X_var.pkl\", 'rb'))\n",
        "Y = pickle.load(open(\"/content/drive/MyDrive/MP sign language/Results/Y_var.pkl\", 'rb'))"
      ]
    },
    {
      "cell_type": "code",
      "execution_count": null,
      "metadata": {
        "id": "h-SM_7B66TaE"
      },
      "outputs": [],
      "source": [
        "s = X.shape"
      ]
    },
    {
      "cell_type": "code",
      "execution_count": null,
      "metadata": {
        "id": "_jWiG3OlYtGh"
      },
      "outputs": [],
      "source": [
        "maxim = 0\n",
        "lens = []\n",
        "for i in X:\n",
        "  lens.append(i.shape[0])\n"
      ]
    },
    {
      "cell_type": "code",
      "execution_count": null,
      "metadata": {
        "colab": {
          "base_uri": "https://localhost:8080/"
        },
        "id": "rv2v0kAvB-bB",
        "outputId": "aeaeb300-42f5-4b3b-ff98-d54d993add52"
      },
      "outputs": [
        {
          "data": {
            "text/plain": [
              "(18540, 50, 42, 3)"
            ]
          },
          "execution_count": 5,
          "metadata": {},
          "output_type": "execute_result"
        }
      ],
      "source": [
        "s"
      ]
    },
    {
      "cell_type": "code",
      "execution_count": null,
      "metadata": {
        "id": "7MaubKFFUyes"
      },
      "outputs": [],
      "source": []
    },
    {
      "cell_type": "code",
      "execution_count": null,
      "metadata": {
        "colab": {
          "base_uri": "https://localhost:8080/"
        },
        "id": "OuHfEPRVBzd2",
        "outputId": "7f78f56b-2abf-4f18-d98b-9f1fb9eed981"
      },
      "outputs": [
        {
          "data": {
            "text/plain": [
              "(18540, 50, 126)"
            ]
          },
          "execution_count": 6,
          "metadata": {},
          "output_type": "execute_result"
        }
      ],
      "source": [
        "X = X.reshape(s[0], s[1], -1)\n",
        "X.shape"
      ]
    },
    {
      "cell_type": "code",
      "execution_count": null,
      "metadata": {
        "colab": {
          "base_uri": "https://localhost:8080/"
        },
        "id": "wHkhjoJOJeo4",
        "outputId": "05938fb0-fe3c-4f29-b7c0-f277ad33e2c7"
      },
      "outputs": [
        {
          "data": {
            "text/plain": [
              "array([0., 0., 0., 0., 0., 0., 0., 0., 0., 0., 0., 0., 0., 0., 0., 0., 0.,\n",
              "       0., 0., 0., 0., 0., 0., 0., 0., 0., 0., 0., 0., 0., 0., 0., 0., 0.,\n",
              "       0., 0., 0., 0., 0., 0., 0., 0., 0., 0., 0., 0., 0., 0., 0., 0., 0.,\n",
              "       0., 0., 0., 0., 0., 0., 0., 0., 0., 0., 0., 0., 0., 0., 0., 0., 0.,\n",
              "       0., 0., 0., 0., 0., 0., 0., 0., 0., 0., 0., 0., 0., 0., 0., 0., 0.,\n",
              "       0., 0., 0., 0., 0., 0., 0., 0., 0., 0., 0., 0., 0., 0., 0., 0., 0.,\n",
              "       0., 0., 0., 0., 0., 0., 0., 0., 0., 0., 0., 0., 0., 0., 0., 0., 0.,\n",
              "       0., 0., 0., 0., 0., 0., 0.])"
            ]
          },
          "execution_count": 8,
          "metadata": {},
          "output_type": "execute_result"
        }
      ],
      "source": [
        "X[0][49]"
      ]
    },
    {
      "cell_type": "code",
      "execution_count": null,
      "metadata": {
        "colab": {
          "base_uri": "https://localhost:8080/"
        },
        "id": "VQyTf6wyJjRL",
        "outputId": "d34238d1-79e4-411a-e919-2276b614bc57"
      },
      "outputs": [
        {
          "data": {
            "text/plain": [
              "array([0.96002394, 0.02424614, 0.65590809, 0.89413083, 0.14268699,\n",
              "       0.25426165, 0.86951685, 0.3725755 , 0.16795882, 0.85718218,\n",
              "       0.5752717 , 0.18672129, 0.84432479, 0.71298286, 0.24754752,\n",
              "       0.97084968, 0.54544334, 0.30155699, 0.93271347, 0.82000735,\n",
              "       0.2667453 , 0.88391128, 0.8792046 , 0.27081119, 0.84436758,\n",
              "       0.87774384, 0.29879847, 0.99542148, 0.54362812, 0.55497801,\n",
              "       0.94365292, 0.7883051 , 0.52103477, 0.88935991, 0.82395035,\n",
              "       0.50411575, 0.84612275, 0.8056118 , 0.50932532, 1.        ,\n",
              "       0.52715114, 0.79110935, 0.94757467, 0.72474432, 0.75675741,\n",
              "       0.89929551, 0.75860541, 0.69438729, 0.85946935, 0.74629771,\n",
              "       0.66457071, 0.9927594 , 0.50762298, 1.        , 0.95146381,\n",
              "       0.65382357, 0.95631104, 0.91290751, 0.69122685, 0.89857924,\n",
              "       0.87888723, 0.68738689, 0.8791704 , 0.02601204, 0.        ,\n",
              "       0.6559036 , 0.09440745, 0.08881954, 0.2621189 , 0.13013637,\n",
              "       0.2657206 , 0.1015107 , 0.1511079 , 0.47626978, 0.0311701 ,\n",
              "       0.1669402 , 0.64579805, 0.        , 0.0444928 , 0.49671885,\n",
              "       0.23577925, 0.08541347, 0.77389427, 0.13624076, 0.12243602,\n",
              "       0.89690372, 0.08083396, 0.15228275, 0.97640166, 0.05821572,\n",
              "       0.01060777, 0.52593343, 0.43122709, 0.0487205 , 0.82578627,\n",
              "       0.3235656 , 0.09521667, 0.94218166, 0.29037896, 0.13504851,\n",
              "       1.        , 0.28356728, 0.        , 0.52383671, 0.60859995,\n",
              "       0.03215514, 0.79193356, 0.51442504, 0.07532199, 0.90979908,\n",
              "       0.48412213, 0.11348035, 0.97359551, 0.48387118, 0.00548738,\n",
              "       0.51543898, 0.76037988, 0.0294205 , 0.73464915, 0.68148718,\n",
              "       0.06139432, 0.84341391, 0.65007549, 0.09136403, 0.90912515,\n",
              "       0.64787523])"
            ]
          },
          "execution_count": 7,
          "metadata": {},
          "output_type": "execute_result"
        }
      ],
      "source": [
        "X[0][1]"
      ]
    },
    {
      "cell_type": "code",
      "execution_count": null,
      "metadata": {
        "id": "9SPiyyed4pc4"
      },
      "outputs": [],
      "source": [
        "from keras.models import Model\n",
        "\n",
        "from keras.models import Sequential\n",
        "from keras.layers import Dense , Dropout , Lambda, Flatten, LSTM, Input, Embedding,CuDNNLSTM, TimeDistributed\n",
        "from keras.layers import BatchNormalization\n",
        "# from keras.optimizers import Adam ,RMSprop\n",
        "# from keras.optimizers import SGD\n",
        "from sklearn.model_selection import train_test_split\n",
        "from keras import  backend as K\n",
        "from keras.utils.np_utils import to_categorical\n",
        "\n",
        "\n",
        "from keras.callbacks import EarlyStopping, TensorBoard, ModelCheckpoint\n",
        "from keras.layers import BatchNormalization , MaxPooling2D, Activation"
      ]
    },
    {
      "cell_type": "code",
      "execution_count": null,
      "metadata": {
        "id": "Ql9N_Gd77Jmu"
      },
      "outputs": [],
      "source": [
        "from tensorflow.keras.utils import to_categorical\n",
        "from sklearn.preprocessing import LabelEncoder\n",
        "label_encoder = LabelEncoder()\n",
        "integer_encoded = label_encoder.fit_transform(Y)\n",
        "Y_cat = to_categorical(integer_encoded)\n",
        "\n"
      ]
    },
    {
      "cell_type": "code",
      "execution_count": null,
      "metadata": {
        "colab": {
          "base_uri": "https://localhost:8080/"
        },
        "id": "6EGBrt5v8XgF",
        "outputId": "9b010bb3-8cb5-4ac3-fc27-22e1e2be233a"
      },
      "outputs": [
        {
          "data": {
            "text/plain": [
              "(18540, 49)"
            ]
          },
          "execution_count": 10,
          "metadata": {},
          "output_type": "execute_result"
        }
      ],
      "source": [
        "Y_cat.shape"
      ]
    },
    {
      "cell_type": "code",
      "execution_count": null,
      "metadata": {
        "id": "ziOaA2Wn6h-M"
      },
      "outputs": [],
      "source": [
        "X_train, X_test, y_train, y_test = train_test_split(X, Y_cat, test_size=0.2, random_state = 42)"
      ]
    },
    {
      "cell_type": "code",
      "execution_count": null,
      "metadata": {
        "colab": {
          "base_uri": "https://localhost:8080/"
        },
        "id": "CJElUdXSt8K8",
        "outputId": "dcf0f777-d0c7-4040-eb71-d3be57737f92"
      },
      "outputs": [
        {
          "data": {
            "text/plain": [
              "(14832, 50, 126)"
            ]
          },
          "execution_count": 12,
          "metadata": {},
          "output_type": "execute_result"
        }
      ],
      "source": [
        "X_train.shape"
      ]
    },
    {
      "cell_type": "code",
      "execution_count": null,
      "metadata": {
        "id": "g2Ya5-FaSzU5"
      },
      "outputs": [],
      "source": [
        "bottleneck = Sequential()\n",
        "bottleneck.add(Dense(64, input_dim=126, activation='relu'))\n",
        "bottleneck.add(Dense(16, activation='relu'))\n",
        "bottleneck.add(Dense(257, activation='softmax'))"
      ]
    },
    {
      "cell_type": "code",
      "execution_count": null,
      "metadata": {
        "id": "AKjX6LtvS6ZA"
      },
      "outputs": [],
      "source": [
        "bottleneck.load_weights(\"/content/drive/MyDrive/MP sign language/Results/<keras.engine.sequential.Sequential object at 0x7f6d90bbdf90>_weights.best.hdf5\")"
      ]
    },
    {
      "cell_type": "code",
      "execution_count": null,
      "metadata": {
        "colab": {
          "base_uri": "https://localhost:8080/"
        },
        "id": "IyMZZ_TQTVQ0",
        "outputId": "6529e90e-f389-4661-e800-6a06639fdec2"
      },
      "outputs": [
        {
          "name": "stdout",
          "output_type": "stream",
          "text": [
            "Model: \"sequential_1\"\n",
            "_________________________________________________________________\n",
            " Layer (type)                Output Shape              Param #   \n",
            "=================================================================\n",
            " dense (Dense)               (None, 64)                8128      \n",
            "                                                                 \n",
            " dense_1 (Dense)             (None, 16)                1040      \n",
            "                                                                 \n",
            "=================================================================\n",
            "Total params: 9,168\n",
            "Trainable params: 0\n",
            "Non-trainable params: 9,168\n",
            "_________________________________________________________________\n"
          ]
        }
      ],
      "source": [
        "feature_extractor = Sequential()\n",
        "for layer in bottleneck.layers[:-1]:\n",
        "  layer.trainable = False\n",
        "  feature_extractor.add(layer)\n",
        "feature_extractor.summary()"
      ]
    },
    {
      "cell_type": "code",
      "execution_count": null,
      "metadata": {
        "id": "oGcZ75q-UOBo"
      },
      "outputs": [],
      "source": [
        "LR = 1e-2\n",
        "inp = Input(shape = (None, 126))\n",
        "# inp = Input(batch_shape = (1, None, X.shape[2]))\n",
        "\n",
        "lstm1 = LSTM(128, dropout=0.2, return_sequences = True)\n",
        "lstmin =lstm1(inp)\n",
        "lstm2 = LSTM(128, dropout=0.2)\n",
        "lstmout = lstm2(lstmin)\n",
        "# lstmout = LSTM(64, )(lstmout)\n",
        "dense = Dense(Y_cat.shape[1] ,activation = \"softmax\")\n",
        "out = dense(lstmout)\n",
        "model = Model(inp, out)"
      ]
    },
    {
      "cell_type": "code",
      "execution_count": null,
      "metadata": {
        "id": "04Ai66sG4wH3"
      },
      "outputs": [],
      "source": [
        "LR = 1e-2\n",
        "# inp = Input(shape = (None, X.shape[2]))\n",
        "inp = Input(batch_shape = (1, None, X.shape[2]))\n",
        "\n",
        "lstm1 = LSTM(128, dropout=0.2, return_sequences = True, stateful = True)\n",
        "lstmin =lstm1(inp)\n",
        "lstm2 = LSTM(128, dropout=0.2, stateful= True)\n",
        "lstmout = lstm2(lstmin)\n",
        "# lstmout = LSTM(64, )(lstmout)\n",
        "dense = Dense(Y_cat.shape[1] ,activation = \"softmax\")\n",
        "out = dense(lstmout)\n",
        "model = Model(inp, out)"
      ]
    },
    {
      "cell_type": "code",
      "execution_count": null,
      "metadata": {
        "colab": {
          "base_uri": "https://localhost:8080/",
          "height": 422
        },
        "id": "ZDkc3j3-ERCi",
        "outputId": "23115e13-6d77-4825-8aea-ba57eeb75a18"
      },
      "outputs": [
        {
          "data": {
            "image/png": "[encoded data removed]",
            "text/plain": [
              "<IPython.core.display.Image object>"
            ]
          },
          "execution_count": 14,
          "metadata": {},
          "output_type": "execute_result"
        }
      ],
      "source": [
        "from keras.utils.vis_utils import plot_model\n",
        "plot_model(model, to_file='model_plot.png', show_shapes=True, show_layer_names=True)"
      ]
    },
    {
      "cell_type": "code",
      "execution_count": null,
      "metadata": {
        "id": "JDZBczxa2qG_"
      },
      "outputs": [],
      "source": [
        "model.load_weights(\"/content/drive/MyDrive/MP sign language/Results/lstm_weights.best.hdf5\")"
      ]
    },
    {
      "cell_type": "code",
      "execution_count": null,
      "metadata": {
        "colab": {
          "base_uri": "https://localhost:8080/"
        },
        "id": "bo5aVh1ctiM6",
        "outputId": "30d66f83-d8d9-4aa3-9dbd-0f0c9b67d836"
      },
      "outputs": [
        {
          "name": "stdout",
          "output_type": "stream",
          "text": [
            "Model: \"model_1\"\n",
            "_________________________________________________________________\n",
            " Layer (type)                Output Shape              Param #   \n",
            "=================================================================\n",
            " input_1 (InputLayer)        [(1, None, 126)]          0         \n",
            "                                                                 \n",
            " lstm (LSTM)                 (1, None, 128)            130560    \n",
            "                                                                 \n",
            " lstm_1 (LSTM)               (1, 128)                  131584    \n",
            "                                                                 \n",
            "=================================================================\n",
            "Total params: 262,144\n",
            "Trainable params: 262,144\n",
            "Non-trainable params: 0\n",
            "_________________________________________________________________\n"
          ]
        }
      ],
      "source": [
        "LstmModel = Model(inp, lstmout)\n",
        "LstmModel.summary()"
      ]
    },
    {
      "cell_type": "code",
      "execution_count": null,
      "metadata": {
        "colab": {
          "base_uri": "https://localhost:8080/"
        },
        "id": "jymV04DZy3Ba",
        "outputId": "2a19463d-c54f-4555-9fcd-614531059652"
      },
      "outputs": [
        {
          "name": "stdout",
          "output_type": "stream",
          "text": [
            "Model: \"model_2\"\n",
            "_________________________________________________________________\n",
            " Layer (type)                Output Shape              Param #   \n",
            "=================================================================\n",
            " input_2 (InputLayer)        [(1, 128)]                0         \n",
            "                                                                 \n",
            " dense (Dense)               (1, 49)                   6321      \n",
            "                                                                 \n",
            "=================================================================\n",
            "Total params: 6,321\n",
            "Trainable params: 6,321\n",
            "Non-trainable params: 0\n",
            "_________________________________________________________________\n"
          ]
        }
      ],
      "source": [
        "softModel = Model(lstmout, out)\n",
        "softModel.summary()"
      ]
    },
    {
      "cell_type": "code",
      "execution_count": null,
      "metadata": {
        "colab": {
          "base_uri": "https://localhost:8080/"
        },
        "id": "1TxeJDhcuASV",
        "outputId": "3f0e82d9-8c1f-4b05-f168-35bc3c806a7a"
      },
      "outputs": [
        {
          "data": {
            "text/plain": [
              "array([[-0.97910184, -0.9947712 , -0.6865224 ,  0.9741889 , -0.9426733 ,\n",
              "        -0.5844806 , -0.99834025,  0.99482423, -0.9942836 ,  0.01862373,\n",
              "        -0.50457525, -0.9859213 , -0.99596924,  0.9877906 , -0.97921807,\n",
              "         0.9958124 , -0.88291156,  0.68196964, -0.6951597 , -0.95174146,\n",
              "         0.9102523 ,  0.99411654,  0.9996319 ,  0.19229041,  0.986682  ,\n",
              "        -0.97826016, -0.9967203 , -0.7338856 ,  0.96719366,  0.65358126,\n",
              "         0.88582563, -0.20846103,  0.9849625 , -0.9914859 ,  0.17345029,\n",
              "        -0.9893387 ,  0.9987362 , -0.99888426,  0.9051188 ,  0.74531156,\n",
              "         0.9990672 , -0.9869952 ,  0.9969561 , -0.9983985 , -0.70975685,\n",
              "         0.9895109 ,  0.90908533,  0.9946432 ,  0.96828735, -0.42378247,\n",
              "        -0.9951941 , -0.9997598 ,  0.8355798 , -0.98142815, -0.99685305,\n",
              "        -0.9989813 ,  0.34743482,  0.9977869 , -0.88710546, -0.59577614,\n",
              "        -0.99791884, -0.9544763 , -0.99991065, -0.4139804 , -0.86786705,\n",
              "        -0.86443853, -0.9325151 ,  0.99041414, -0.9804036 , -0.9999156 ,\n",
              "        -0.9801207 , -0.9732989 ,  0.612823  ,  0.99541754,  0.66061085,\n",
              "         0.49224722,  0.95590335, -0.9919114 , -0.99300903,  0.5527396 ,\n",
              "        -0.99886996, -0.02187812,  0.62796575,  0.99830735,  0.98806214,\n",
              "        -0.78643876, -0.82819194, -0.14112368,  0.98507035,  0.9439148 ,\n",
              "        -0.9930822 ,  0.9920744 , -0.843232  ,  0.96761155,  0.7777776 ,\n",
              "        -0.49021587, -0.99927354,  0.5159902 ,  0.9302908 ,  0.8856435 ,\n",
              "         0.189308  , -0.75075096, -0.9925819 , -0.99894834, -0.44772834,\n",
              "        -0.99659157,  0.34343   ,  0.97723323, -0.96919936, -0.9919253 ,\n",
              "         0.99737257, -0.2329654 , -0.99951315, -0.58249676,  0.7762023 ,\n",
              "         0.30336955, -0.9770957 , -0.6358443 ,  0.95707965,  0.9886642 ,\n",
              "         0.91341895, -0.30579236, -0.8535569 , -0.99877524,  0.99927664,\n",
              "         0.9873609 ,  0.99979275, -0.9965141 ]], dtype=float32)"
            ]
          },
          "execution_count": 18,
          "metadata": {},
          "output_type": "execute_result"
        }
      ],
      "source": [
        "import numpy as np\n",
        "model.reset_states()\n",
        "\n",
        "LstmModel.predict(np.expand_dims(X_train[0], axis = 0))"
      ]
    },
    {
      "cell_type": "code",
      "execution_count": null,
      "metadata": {
        "colab": {
          "base_uri": "https://localhost:8080/"
        },
        "id": "Ad6f5ZWo_bIM",
        "outputId": "2b4ab376-9480-4f18-9bfc-f79fb9701f31"
      },
      "outputs": [
        {
          "name": "stdout",
          "output_type": "stream",
          "text": [
            "Model: \"model_1\"\n",
            "_________________________________________________________________\n",
            " Layer (type)                Output Shape              Param #   \n",
            "=================================================================\n",
            " input_2 (InputLayer)        [(1, None, 126)]          0         \n",
            "                                                                 \n",
            " lstm_2 (LSTM)               (1, None, 128)            130560    \n",
            "                                                                 \n",
            " lstm_3 (LSTM)               (1, 128)                  131584    \n",
            "                                                                 \n",
            " dense_1 (Dense)             (1, 49)                   6321      \n",
            "                                                                 \n",
            "=================================================================\n",
            "Total params: 268,465\n",
            "Trainable params: 268,465\n",
            "Non-trainable params: 0\n",
            "_________________________________________________________________\n"
          ]
        }
      ],
      "source": [
        "model.summary()"
      ]
    },
    {
      "cell_type": "code",
      "execution_count": null,
      "metadata": {
        "id": "JYYE4z5O8zWe"
      },
      "outputs": [],
      "source": [
        "from keras.callbacks import ModelCheckpoint, LearningRateScheduler, EarlyStopping, ReduceLROnPlateau\n",
        "Patience=2\n",
        "BestModelWeightsPath = \"/content/drive/MyDrive/MP sign language/Results/lstm_weights.best.hdf5\"\n",
        "checkpoint = ModelCheckpoint(\n",
        "    BestModelWeightsPath, \n",
        "    monitor='val_accuracy', \n",
        "    verbose=1, \n",
        "    save_best_only=True, \n",
        "    mode='max', \n",
        "    save_weights_only = True\n",
        ")\n",
        "reduceLROnPlat = ReduceLROnPlateau(\n",
        "    monitor='val_accuracy', \n",
        "    factor=0.8, \n",
        "    patience=10, \n",
        "    verbose=1, \n",
        "    mode='max', \n",
        "    cooldown=2, \n",
        "    min_lr=1e-8\n",
        ")\n",
        "early = EarlyStopping(\n",
        "    monitor=\"val_accuracy\", \n",
        "    mode=\"max\", \n",
        "    patience=Patience*4,\n",
        "    restore_best_weights=True\n",
        ")\n",
        "callbacks_list= [checkpoint, reduceLROnPlat, early]\n"
      ]
    },
    {
      "cell_type": "code",
      "execution_count": null,
      "metadata": {
        "colab": {
          "base_uri": "https://localhost:8080/"
        },
        "id": "UU8BqpldCX24",
        "outputId": "107d6f62-5054-468e-b07f-46d8ee0cc348"
      },
      "outputs": [
        {
          "name": "stdout",
          "output_type": "stream",
          "text": [
            "Model: \"model_2\"\n",
            "_________________________________________________________________\n",
            " Layer (type)                Output Shape              Param #   \n",
            "=================================================================\n",
            " input_3 (InputLayer)        [(None, None, 126)]       0         \n",
            "                                                                 \n",
            " lstm_4 (LSTM)               (None, None, 128)         130560    \n",
            "                                                                 \n",
            " lstm_5 (LSTM)               (None, 128)               131584    \n",
            "                                                                 \n",
            " dense_2 (Dense)             (None, 49)                6321      \n",
            "                                                                 \n",
            "=================================================================\n",
            "Total params: 268,465\n",
            "Trainable params: 268,465\n",
            "Non-trainable params: 0\n",
            "_________________________________________________________________\n"
          ]
        }
      ],
      "source": [
        "model.summary()"
      ]
    },
    {
      "cell_type": "code",
      "execution_count": null,
      "metadata": {
        "id": "PlFNsYm95Fbn"
      },
      "outputs": [],
      "source": [
        "from keras.losses import categorical_crossentropy\n",
        "model.compile(optimizer = \"adam\", loss = \"categorical_crossentropy\", metrics = [\"accuracy\"])\n",
        "model.optimizer.lr = 1e-3"
      ]
    },
    {
      "cell_type": "code",
      "execution_count": null,
      "metadata": {
        "colab": {
          "base_uri": "https://localhost:8080/"
        },
        "id": "lpV4j5BL9RCG",
        "outputId": "d3245186-3c8c-4b42-b881-112e70e8a3de"
      },
      "outputs": [
        {
          "name": "stdout",
          "output_type": "stream",
          "text": [
            "Epoch 1/1000\n",
            "116/115 [==============================] - ETA: 0s - loss: 3.0770 - accuracy: 0.1472\n",
            "Epoch 1: val_accuracy improved from -inf to 0.27131, saving model to /content/drive/MyDrive/MP sign language/Results/lstm_weights.best.hdf5\n",
            "115/115 [==============================] - 11s 24ms/step - loss: 3.0770 - accuracy: 0.1472 - val_loss: 2.3632 - val_accuracy: 0.2713 - lr: 0.0010\n",
            "Epoch 2/1000\n",
            "114/115 [============================>.] - ETA: 0s - loss: 2.0227 - accuracy: 0.3764\n",
            "Epoch 2: val_accuracy improved from 0.27131 to 0.49569, saving model to /content/drive/MyDrive/MP sign language/Results/lstm_weights.best.hdf5\n",
            "115/115 [==============================] - 2s 15ms/step - loss: 2.0139 - accuracy: 0.3788 - val_loss: 1.5515 - val_accuracy: 0.4957 - lr: 0.0010\n",
            "Epoch 3/1000\n",
            "112/115 [===========================>..] - ETA: 0s - loss: 1.3964 - accuracy: 0.5581\n",
            "Epoch 3: val_accuracy improved from 0.49569 to 0.67691, saving model to /content/drive/MyDrive/MP sign language/Results/lstm_weights.best.hdf5\n",
            "115/115 [==============================] - 2s 15ms/step - loss: 1.3887 - accuracy: 0.5607 - val_loss: 1.0224 - val_accuracy: 0.6769 - lr: 0.0010\n",
            "Epoch 4/1000\n",
            "112/115 [===========================>..] - ETA: 0s - loss: 1.0420 - accuracy: 0.6710\n",
            "Epoch 4: val_accuracy improved from 0.67691 to 0.78452, saving model to /content/drive/MyDrive/MP sign language/Results/lstm_weights.best.hdf5\n",
            "115/115 [==============================] - 2s 14ms/step - loss: 1.0376 - accuracy: 0.6721 - val_loss: 0.7377 - val_accuracy: 0.7845 - lr: 0.0010\n",
            "Epoch 5/1000\n",
            "116/115 [==============================] - ETA: 0s - loss: 0.7234 - accuracy: 0.7741\n",
            "Epoch 5: val_accuracy improved from 0.78452 to 0.84871, saving model to /content/drive/MyDrive/MP sign language/Results/lstm_weights.best.hdf5\n",
            "115/115 [==============================] - 2s 15ms/step - loss: 0.7234 - accuracy: 0.7741 - val_loss: 0.5083 - val_accuracy: 0.8487 - lr: 0.0010\n",
            "Epoch 6/1000\n",
            "112/115 [===========================>..] - ETA: 0s - loss: 0.5204 - accuracy: 0.8416\n",
            "Epoch 6: val_accuracy improved from 0.84871 to 0.90777, saving model to /content/drive/MyDrive/MP sign language/Results/lstm_weights.best.hdf5\n",
            "115/115 [==============================] - 2s 14ms/step - loss: 0.5183 - accuracy: 0.8423 - val_loss: 0.3463 - val_accuracy: 0.9078 - lr: 0.0010\n",
            "Epoch 7/1000\n",
            "116/115 [==============================] - ETA: 0s - loss: 0.3780 - accuracy: 0.8885\n",
            "Epoch 7: val_accuracy improved from 0.90777 to 0.92665, saving model to /content/drive/MyDrive/MP sign language/Results/lstm_weights.best.hdf5\n",
            "115/115 [==============================] - 2s 14ms/step - loss: 0.3780 - accuracy: 0.8885 - val_loss: 0.2765 - val_accuracy: 0.9266 - lr: 0.0010\n",
            "Epoch 8/1000\n",
            "116/115 [==============================] - ETA: 0s - loss: 0.3069 - accuracy: 0.9113\n",
            "Epoch 8: val_accuracy improved from 0.92665 to 0.94094, saving model to /content/drive/MyDrive/MP sign language/Results/lstm_weights.best.hdf5\n",
            "115/115 [==============================] - 2s 14ms/step - loss: 0.3069 - accuracy: 0.9113 - val_loss: 0.2060 - val_accuracy: 0.9409 - lr: 0.0010\n",
            "Epoch 9/1000\n",
            "114/115 [============================>.] - ETA: 0s - loss: 0.2239 - accuracy: 0.9382\n",
            "Epoch 9: val_accuracy improved from 0.94094 to 0.95982, saving model to /content/drive/MyDrive/MP sign language/Results/lstm_weights.best.hdf5\n",
            "115/115 [==============================] - 2s 15ms/step - loss: 0.2229 - accuracy: 0.9384 - val_loss: 0.1346 - val_accuracy: 0.9598 - lr: 0.0010\n",
            "Epoch 10/1000\n",
            "114/115 [============================>.] - ETA: 0s - loss: 0.1714 - accuracy: 0.9538\n",
            "Epoch 10: val_accuracy improved from 0.95982 to 0.97168, saving model to /content/drive/MyDrive/MP sign language/Results/lstm_weights.best.hdf5\n",
            "115/115 [==============================] - 2s 14ms/step - loss: 0.1717 - accuracy: 0.9534 - val_loss: 0.1260 - val_accuracy: 0.9717 - lr: 0.0010\n",
            "Epoch 11/1000\n",
            "113/115 [============================>.] - ETA: 0s - loss: 0.1447 - accuracy: 0.9599\n",
            "Epoch 11: val_accuracy did not improve from 0.97168\n",
            "115/115 [==============================] - 2s 15ms/step - loss: 0.1454 - accuracy: 0.9595 - val_loss: 0.1220 - val_accuracy: 0.9671 - lr: 0.0010\n",
            "Epoch 12/1000\n",
            "113/115 [============================>.] - ETA: 0s - loss: 0.1405 - accuracy: 0.9609\n",
            "Epoch 12: val_accuracy improved from 0.97168 to 0.97950, saving model to /content/drive/MyDrive/MP sign language/Results/lstm_weights.best.hdf5\n",
            "115/115 [==============================] - 2s 14ms/step - loss: 0.1412 - accuracy: 0.9603 - val_loss: 0.0784 - val_accuracy: 0.9795 - lr: 0.0010\n",
            "Epoch 13/1000\n",
            "114/115 [============================>.] - ETA: 0s - loss: 0.1115 - accuracy: 0.9681\n",
            "Epoch 13: val_accuracy did not improve from 0.97950\n",
            "115/115 [==============================] - 2s 14ms/step - loss: 0.1113 - accuracy: 0.9681 - val_loss: 0.1002 - val_accuracy: 0.9749 - lr: 0.0010\n",
            "Epoch 14/1000\n",
            "112/115 [===========================>..] - ETA: 0s - loss: 0.1107 - accuracy: 0.9688\n",
            "Epoch 14: val_accuracy did not improve from 0.97950\n",
            "115/115 [==============================] - 2s 14ms/step - loss: 0.1107 - accuracy: 0.9687 - val_loss: 0.1019 - val_accuracy: 0.9709 - lr: 0.0010\n",
            "Epoch 15/1000\n",
            "115/115 [============================>.] - ETA: 0s - loss: 0.0825 - accuracy: 0.9780\n",
            "Epoch 15: val_accuracy improved from 0.97950 to 0.98058, saving model to /content/drive/MyDrive/MP sign language/Results/lstm_weights.best.hdf5\n",
            "115/115 [==============================] - 2s 15ms/step - loss: 0.0823 - accuracy: 0.9782 - val_loss: 0.0611 - val_accuracy: 0.9806 - lr: 0.0010\n",
            "Epoch 16/1000\n",
            "116/115 [==============================] - ETA: 0s - loss: 0.0867 - accuracy: 0.9748\n",
            "Epoch 16: val_accuracy improved from 0.98058 to 0.98571, saving model to /content/drive/MyDrive/MP sign language/Results/lstm_weights.best.hdf5\n",
            "115/115 [==============================] - 2s 14ms/step - loss: 0.0867 - accuracy: 0.9748 - val_loss: 0.0658 - val_accuracy: 0.9857 - lr: 0.0010\n",
            "Epoch 17/1000\n",
            "116/115 [==============================] - ETA: 0s - loss: 0.0853 - accuracy: 0.9770\n",
            "Epoch 17: val_accuracy did not improve from 0.98571\n",
            "115/115 [==============================] - 2s 14ms/step - loss: 0.0853 - accuracy: 0.9770 - val_loss: 0.1254 - val_accuracy: 0.9612 - lr: 0.0010\n",
            "Epoch 18/1000\n",
            "115/115 [============================>.] - ETA: 0s - loss: 0.0944 - accuracy: 0.9725\n",
            "Epoch 18: val_accuracy improved from 0.98571 to 0.98759, saving model to /content/drive/MyDrive/MP sign language/Results/lstm_weights.best.hdf5\n",
            "115/115 [==============================] - 2s 15ms/step - loss: 0.0941 - accuracy: 0.9726 - val_loss: 0.0493 - val_accuracy: 0.9876 - lr: 0.0010\n",
            "Epoch 19/1000\n",
            "113/115 [============================>.] - ETA: 0s - loss: 0.0655 - accuracy: 0.9810\n",
            "Epoch 19: val_accuracy improved from 0.98759 to 0.98786, saving model to /content/drive/MyDrive/MP sign language/Results/lstm_weights.best.hdf5\n",
            "115/115 [==============================] - 2s 15ms/step - loss: 0.0654 - accuracy: 0.9809 - val_loss: 0.0450 - val_accuracy: 0.9879 - lr: 0.0010\n",
            "Epoch 20/1000\n",
            "115/115 [============================>.] - ETA: 0s - loss: 0.0647 - accuracy: 0.9817\n",
            "Epoch 20: val_accuracy did not improve from 0.98786\n",
            "115/115 [==============================] - 2s 14ms/step - loss: 0.0646 - accuracy: 0.9817 - val_loss: 0.0470 - val_accuracy: 0.9862 - lr: 0.0010\n",
            "Epoch 21/1000\n",
            "114/115 [============================>.] - ETA: 0s - loss: 0.0435 - accuracy: 0.9887\n",
            "Epoch 21: val_accuracy improved from 0.98786 to 0.98975, saving model to /content/drive/MyDrive/MP sign language/Results/lstm_weights.best.hdf5\n",
            "115/115 [==============================] - 2s 14ms/step - loss: 0.0436 - accuracy: 0.9887 - val_loss: 0.0386 - val_accuracy: 0.9898 - lr: 0.0010\n",
            "Epoch 22/1000\n",
            "116/115 [==============================] - ETA: 0s - loss: 0.0656 - accuracy: 0.9815\n",
            "Epoch 22: val_accuracy did not improve from 0.98975\n",
            "115/115 [==============================] - 2s 14ms/step - loss: 0.0656 - accuracy: 0.9815 - val_loss: 0.0441 - val_accuracy: 0.9884 - lr: 0.0010\n",
            "Epoch 23/1000\n",
            "116/115 [==============================] - ETA: 0s - loss: 0.0605 - accuracy: 0.9823\n",
            "Epoch 23: val_accuracy improved from 0.98975 to 0.99164, saving model to /content/drive/MyDrive/MP sign language/Results/lstm_weights.best.hdf5\n",
            "115/115 [==============================] - 2s 14ms/step - loss: 0.0605 - accuracy: 0.9823 - val_loss: 0.0323 - val_accuracy: 0.9916 - lr: 0.0010\n",
            "Epoch 24/1000\n",
            "115/115 [============================>.] - ETA: 0s - loss: 0.0524 - accuracy: 0.9841\n",
            "Epoch 24: val_accuracy did not improve from 0.99164\n",
            "115/115 [==============================] - 2s 14ms/step - loss: 0.0522 - accuracy: 0.9842 - val_loss: 0.0410 - val_accuracy: 0.9903 - lr: 0.0010\n",
            "Epoch 25/1000\n",
            "114/115 [============================>.] - ETA: 0s - loss: 0.0467 - accuracy: 0.9868\n",
            "Epoch 25: val_accuracy did not improve from 0.99164\n",
            "115/115 [==============================] - 2s 14ms/step - loss: 0.0468 - accuracy: 0.9869 - val_loss: 0.0755 - val_accuracy: 0.9806 - lr: 0.0010\n",
            "Epoch 26/1000\n",
            "115/115 [============================>.] - ETA: 0s - loss: 0.0425 - accuracy: 0.9881\n",
            "Epoch 26: val_accuracy did not improve from 0.99164\n",
            "115/115 [==============================] - 2s 14ms/step - loss: 0.0424 - accuracy: 0.9881 - val_loss: 0.0363 - val_accuracy: 0.9900 - lr: 0.0010\n",
            "Epoch 27/1000\n",
            "116/115 [==============================] - ETA: 0s - loss: 0.0395 - accuracy: 0.9877\n",
            "Epoch 27: val_accuracy did not improve from 0.99164\n",
            "115/115 [==============================] - 2s 16ms/step - loss: 0.0395 - accuracy: 0.9877 - val_loss: 0.0296 - val_accuracy: 0.9916 - lr: 0.0010\n",
            "Epoch 28/1000\n",
            "113/115 [============================>.] - ETA: 0s - loss: 0.0682 - accuracy: 0.9806\n",
            "Epoch 28: val_accuracy did not improve from 0.99164\n",
            "115/115 [==============================] - 2s 14ms/step - loss: 0.0704 - accuracy: 0.9799 - val_loss: 0.1016 - val_accuracy: 0.9709 - lr: 0.0010\n",
            "Epoch 29/1000\n",
            "116/115 [==============================] - ETA: 0s - loss: 0.0573 - accuracy: 0.9840\n",
            "Epoch 29: val_accuracy improved from 0.99164 to 0.99380, saving model to /content/drive/MyDrive/MP sign language/Results/lstm_weights.best.hdf5\n",
            "115/115 [==============================] - 2s 18ms/step - loss: 0.0573 - accuracy: 0.9840 - val_loss: 0.0285 - val_accuracy: 0.9938 - lr: 0.0010\n",
            "Epoch 30/1000\n",
            "114/115 [============================>.] - ETA: 0s - loss: 0.0289 - accuracy: 0.9920\n",
            "Epoch 30: val_accuracy did not improve from 0.99380\n",
            "115/115 [==============================] - 2s 14ms/step - loss: 0.0294 - accuracy: 0.9918 - val_loss: 0.0322 - val_accuracy: 0.9924 - lr: 0.0010\n",
            "Epoch 31/1000\n",
            "114/115 [============================>.] - ETA: 0s - loss: 0.0293 - accuracy: 0.9921\n",
            "Epoch 31: val_accuracy improved from 0.99380 to 0.99434, saving model to /content/drive/MyDrive/MP sign language/Results/lstm_weights.best.hdf5\n",
            "115/115 [==============================] - 2s 15ms/step - loss: 0.0294 - accuracy: 0.9920 - val_loss: 0.0188 - val_accuracy: 0.9943 - lr: 0.0010\n",
            "Epoch 32/1000\n",
            "113/115 [============================>.] - ETA: 0s - loss: 0.0284 - accuracy: 0.9927\n",
            "Epoch 32: val_accuracy did not improve from 0.99434\n",
            "115/115 [==============================] - 2s 14ms/step - loss: 0.0285 - accuracy: 0.9929 - val_loss: 0.0289 - val_accuracy: 0.9919 - lr: 0.0010\n",
            "Epoch 33/1000\n",
            "114/115 [============================>.] - ETA: 0s - loss: 0.0396 - accuracy: 0.9894\n",
            "Epoch 33: val_accuracy did not improve from 0.99434\n",
            "115/115 [==============================] - 2s 15ms/step - loss: 0.0391 - accuracy: 0.9895 - val_loss: 0.0276 - val_accuracy: 0.9908 - lr: 0.0010\n",
            "Epoch 34/1000\n",
            "114/115 [============================>.] - ETA: 0s - loss: 0.0250 - accuracy: 0.9933\n",
            "Epoch 34: val_accuracy did not improve from 0.99434\n",
            "115/115 [==============================] - 2s 14ms/step - loss: 0.0250 - accuracy: 0.9932 - val_loss: 0.0284 - val_accuracy: 0.9924 - lr: 0.0010\n",
            "Epoch 35/1000\n",
            "114/115 [============================>.] - ETA: 0s - loss: 0.0484 - accuracy: 0.9860\n",
            "Epoch 35: val_accuracy did not improve from 0.99434\n",
            "115/115 [==============================] - 2s 14ms/step - loss: 0.0480 - accuracy: 0.9862 - val_loss: 0.0231 - val_accuracy: 0.9938 - lr: 0.0010\n",
            "Epoch 36/1000\n",
            "114/115 [============================>.] - ETA: 0s - loss: 0.0345 - accuracy: 0.9900\n",
            "Epoch 36: val_accuracy improved from 0.99434 to 0.99515, saving model to /content/drive/MyDrive/MP sign language/Results/lstm_weights.best.hdf5\n",
            "115/115 [==============================] - 2s 17ms/step - loss: 0.0347 - accuracy: 0.9898 - val_loss: 0.0200 - val_accuracy: 0.9951 - lr: 0.0010\n",
            "Epoch 37/1000\n",
            "116/115 [==============================] - ETA: 0s - loss: 0.0363 - accuracy: 0.9891\n",
            "Epoch 37: val_accuracy did not improve from 0.99515\n",
            "115/115 [==============================] - 2s 15ms/step - loss: 0.0363 - accuracy: 0.9891 - val_loss: 0.0274 - val_accuracy: 0.9919 - lr: 0.0010\n",
            "Epoch 38/1000\n",
            "113/115 [============================>.] - ETA: 0s - loss: 0.0248 - accuracy: 0.9934\n",
            "Epoch 38: val_accuracy improved from 0.99515 to 0.99568, saving model to /content/drive/MyDrive/MP sign language/Results/lstm_weights.best.hdf5\n",
            "115/115 [==============================] - 2s 15ms/step - loss: 0.0247 - accuracy: 0.9935 - val_loss: 0.0167 - val_accuracy: 0.9957 - lr: 0.0010\n",
            "Epoch 39/1000\n",
            "114/115 [============================>.] - ETA: 0s - loss: 0.0265 - accuracy: 0.9927\n",
            "Epoch 39: val_accuracy did not improve from 0.99568\n",
            "115/115 [==============================] - 2s 15ms/step - loss: 0.0264 - accuracy: 0.9928 - val_loss: 0.0361 - val_accuracy: 0.9895 - lr: 0.0010\n",
            "Epoch 40/1000\n",
            "115/115 [============================>.] - ETA: 0s - loss: 0.0294 - accuracy: 0.9922\n",
            "Epoch 40: val_accuracy did not improve from 0.99568\n",
            "115/115 [==============================] - 2s 15ms/step - loss: 0.0294 - accuracy: 0.9922 - val_loss: 0.0409 - val_accuracy: 0.9879 - lr: 0.0010\n",
            "Epoch 41/1000\n",
            "113/115 [============================>.] - ETA: 0s - loss: 0.0394 - accuracy: 0.9883\n",
            "Epoch 41: val_accuracy did not improve from 0.99568\n",
            "115/115 [==============================] - 2s 14ms/step - loss: 0.0391 - accuracy: 0.9883 - val_loss: 0.0329 - val_accuracy: 0.9908 - lr: 0.0010\n",
            "Epoch 42/1000\n",
            "113/115 [============================>.] - ETA: 0s - loss: 0.0208 - accuracy: 0.9945\n",
            "Epoch 42: val_accuracy did not improve from 0.99568\n",
            "115/115 [==============================] - 2s 15ms/step - loss: 0.0217 - accuracy: 0.9942 - val_loss: 0.0224 - val_accuracy: 0.9943 - lr: 0.0010\n",
            "Epoch 43/1000\n",
            "113/115 [============================>.] - ETA: 0s - loss: 0.0169 - accuracy: 0.9956\n",
            "Epoch 43: val_accuracy improved from 0.99568 to 0.99730, saving model to /content/drive/MyDrive/MP sign language/Results/lstm_weights.best.hdf5\n",
            "115/115 [==============================] - 2s 17ms/step - loss: 0.0166 - accuracy: 0.9957 - val_loss: 0.0099 - val_accuracy: 0.9973 - lr: 0.0010\n",
            "Epoch 44/1000\n",
            "114/115 [============================>.] - ETA: 0s - loss: 0.0113 - accuracy: 0.9971\n",
            "Epoch 44: val_accuracy did not improve from 0.99730\n",
            "115/115 [==============================] - 2s 14ms/step - loss: 0.0114 - accuracy: 0.9970 - val_loss: 0.0217 - val_accuracy: 0.9943 - lr: 0.0010\n",
            "Epoch 45/1000\n",
            "112/115 [===========================>..] - ETA: 0s - loss: 0.0280 - accuracy: 0.9923\n",
            "Epoch 45: val_accuracy did not improve from 0.99730\n",
            "115/115 [==============================] - 2s 14ms/step - loss: 0.0279 - accuracy: 0.9922 - val_loss: 0.0262 - val_accuracy: 0.9946 - lr: 0.0010\n",
            "Epoch 46/1000\n",
            "114/115 [============================>.] - ETA: 0s - loss: 0.0290 - accuracy: 0.9923\n",
            "Epoch 46: val_accuracy did not improve from 0.99730\n",
            "115/115 [==============================] - 2s 15ms/step - loss: 0.0294 - accuracy: 0.9921 - val_loss: 0.0859 - val_accuracy: 0.9763 - lr: 0.0010\n",
            "Epoch 47/1000\n",
            "113/115 [============================>.] - ETA: 0s - loss: 0.0560 - accuracy: 0.9824\n",
            "Epoch 47: val_accuracy did not improve from 0.99730\n",
            "115/115 [==============================] - 2s 15ms/step - loss: 0.0557 - accuracy: 0.9825 - val_loss: 0.0312 - val_accuracy: 0.9916 - lr: 0.0010\n",
            "Epoch 48/1000\n",
            "116/115 [==============================] - ETA: 0s - loss: 0.0239 - accuracy: 0.9927\n",
            "Epoch 48: val_accuracy did not improve from 0.99730\n",
            "115/115 [==============================] - 2s 15ms/step - loss: 0.0239 - accuracy: 0.9927 - val_loss: 0.0172 - val_accuracy: 0.9949 - lr: 0.0010\n",
            "Epoch 49/1000\n",
            "115/115 [============================>.] - ETA: 0s - loss: 0.0326 - accuracy: 0.9908\n",
            "Epoch 49: val_accuracy did not improve from 0.99730\n",
            "115/115 [==============================] - 2s 14ms/step - loss: 0.0325 - accuracy: 0.9909 - val_loss: 0.0245 - val_accuracy: 0.9933 - lr: 0.0010\n",
            "Epoch 50/1000\n",
            "113/115 [============================>.] - ETA: 0s - loss: 0.0258 - accuracy: 0.9926\n",
            "Epoch 50: val_accuracy did not improve from 0.99730\n",
            "115/115 [==============================] - 2s 14ms/step - loss: 0.0257 - accuracy: 0.9927 - val_loss: 0.0261 - val_accuracy: 0.9930 - lr: 0.0010\n",
            "Epoch 51/1000\n",
            "113/115 [============================>.] - ETA: 0s - loss: 0.0264 - accuracy: 0.9926\n",
            "Epoch 51: val_accuracy did not improve from 0.99730\n",
            "115/115 [==============================] - 2s 15ms/step - loss: 0.0271 - accuracy: 0.9924 - val_loss: 0.0225 - val_accuracy: 0.9941 - lr: 0.0010\n"
          ]
        }
      ],
      "source": [
        "history_CNN=model.fit(\n",
        "  X_train,\n",
        "  y_train,\n",
        "  batch_size = 128,\n",
        "  steps_per_epoch = len(X_train)/128,\n",
        "  epochs = 1000,\n",
        "  callbacks = callbacks_list,\n",
        "  validation_data = (X_test, y_test),\n",
        ")"
      ]
    },
    {
      "cell_type": "code",
      "execution_count": null,
      "metadata": {
        "colab": {
          "base_uri": "https://localhost:8080/"
        },
        "id": "egG2Og4pVn8t",
        "outputId": "deab3157-c881-4e7f-d613-d8b883b4009f"
      },
      "outputs": [
        {
          "name": "stdout",
          "output_type": "stream",
          "text": [
            "[24 47 32 ... 34 44  4]\n"
          ]
        }
      ],
      "source": [
        "import numpy as np\n",
        "print(np.argmax(model.predict(X_test), axis = 1))"
      ]
    },
    {
      "cell_type": "markdown",
      "metadata": {
        "id": "FPZwuGB7q8Dc"
      },
      "source": [
        "Inference\n"
      ]
    },
    {
      "cell_type": "code",
      "execution_count": null,
      "metadata": {
        "colab": {
          "base_uri": "https://localhost:8080/"
        },
        "id": "58U5XEpypn6i",
        "outputId": "3bf5757a-2b99-4672-aecc-234e51c5c675"
      },
      "outputs": [
        {
          "data": {
            "text/plain": [
              "(18540, 49)"
            ]
          },
          "execution_count": 19,
          "metadata": {},
          "output_type": "execute_result"
        }
      ],
      "source": [
        "from tensorflow.keras.utils import to_categorical\n",
        "from sklearn.preprocessing import LabelEncoder\n",
        "label_encoder = LabelEncoder()\n",
        "integer_encoded = label_encoder.fit_transform(Y)\n",
        "Y_cat = to_categorical(integer_encoded)\n",
        "Y_cat.shape"
      ]
    },
    {
      "cell_type": "code",
      "execution_count": null,
      "metadata": {
        "colab": {
          "base_uri": "https://localhost:8080/"
        },
        "id": "wZkxFpc-rCkv",
        "outputId": "3f097c01-91b1-4040-cbd9-fd79c0bae54a"
      },
      "outputs": [
        {
          "data": {
            "text/plain": [
              "{0: 'Adult',\n",
              " 1: 'Alright',\n",
              " 2: 'Baby',\n",
              " 3: 'Boy',\n",
              " 4: 'Brother',\n",
              " 5: 'Child',\n",
              " 6: 'Crowd',\n",
              " 7: 'Daughter',\n",
              " 8: 'Family',\n",
              " 9: 'Father',\n",
              " 10: 'Friday',\n",
              " 11: 'Friend',\n",
              " 12: 'Girl',\n",
              " 13: 'Grandfather',\n",
              " 14: 'Grandmother',\n",
              " 15: 'Hello',\n",
              " 16: 'Husband',\n",
              " 17: 'I',\n",
              " 18: 'King',\n",
              " 19: 'Man',\n",
              " 20: 'Monday',\n",
              " 21: 'Month',\n",
              " 22: 'Mother',\n",
              " 23: 'Neighbour',\n",
              " 24: 'Parent',\n",
              " 25: 'Player',\n",
              " 26: 'Pleased',\n",
              " 27: 'President',\n",
              " 28: 'Queen',\n",
              " 29: 'Saturday',\n",
              " 30: 'Sister',\n",
              " 31: 'Son',\n",
              " 32: 'Sunday',\n",
              " 33: 'Thursday',\n",
              " 34: 'Today',\n",
              " 35: 'Tomorrow',\n",
              " 36: 'Tuesday',\n",
              " 37: 'Wednesday',\n",
              " 38: 'Week',\n",
              " 39: 'Wife',\n",
              " 40: 'Woman',\n",
              " 41: 'Year',\n",
              " 42: 'Yesterday',\n",
              " 43: 'he',\n",
              " 44: 'it',\n",
              " 45: 'she',\n",
              " 46: 'they',\n",
              " 47: 'we',\n",
              " 48: 'you'}"
            ]
          },
          "execution_count": 20,
          "metadata": {},
          "output_type": "execute_result"
        }
      ],
      "source": [
        "mapping = dict(zip(range(len(label_encoder.classes_)), label_encoder.classes_,))\n",
        "mapping"
      ]
    },
    {
      "cell_type": "code",
      "execution_count": null,
      "metadata": {
        "id": "cpyHgcOUrEgZ"
      },
      "outputs": [],
      "source": [
        "import numpy as np\n",
        "model.reset_states()\n",
        "y_pred = np.argmax(model.predict(X_test), axis=1)"
      ]
    },
    {
      "cell_type": "code",
      "execution_count": null,
      "metadata": {
        "id": "-g3dVlaJx8ed"
      },
      "outputs": [],
      "source": [
        "y_pred"
      ]
    },
    {
      "cell_type": "code",
      "execution_count": null,
      "metadata": {
        "id": "FTV8WkV3rLjI"
      },
      "outputs": [],
      "source": [
        "y_true = np.argmax(y_test, axis = 1)\n",
        "y_true"
      ]
    },
    {
      "cell_type": "code",
      "execution_count": null,
      "metadata": {
        "id": "41GrdB5vrPBi"
      },
      "outputs": [],
      "source": [
        "for i, j in zip(y_true, y_pred):\n",
        "  print(i,j) "
      ]
    },
    {
      "cell_type": "code",
      "execution_count": null,
      "metadata": {
        "colab": {
          "base_uri": "https://localhost:8080/",
          "height": 1000
        },
        "id": "kn-qRIGBrRqY",
        "outputId": "a996246c-b0d1-40e7-f245-ff5a0a33e6ae"
      },
      "outputs": [
        {
          "name": "stdout",
          "output_type": "stream",
          "text": [
            "Mean Absolute Error: 0.02900461437046803\n",
            "Accuracy: 0.9976928147659855\n",
            "              precision    recall  f1-score   support\n",
            "\n",
            "           0      1.000     1.000     1.000        57\n",
            "           1      0.987     1.000     0.993        74\n",
            "           2      1.000     1.000     1.000       101\n",
            "           3      1.000     1.000     1.000        72\n",
            "           4      1.000     1.000     1.000        79\n",
            "           5      1.000     1.000     1.000        42\n",
            "           6      0.988     1.000     0.994        83\n",
            "           7      1.000     1.000     1.000        60\n",
            "           8      1.000     1.000     1.000        70\n",
            "           9      1.000     1.000     1.000        59\n",
            "          10      1.000     1.000     1.000        92\n",
            "          11      0.987     1.000     0.994        77\n",
            "          12      1.000     1.000     1.000        82\n",
            "          13      1.000     1.000     1.000        69\n",
            "          14      1.000     1.000     1.000        80\n",
            "          15      1.000     1.000     1.000        62\n",
            "          16      1.000     1.000     1.000        57\n",
            "          17      1.000     1.000     1.000        78\n",
            "          18      1.000     1.000     1.000        56\n",
            "          19      1.000     0.986     0.993        72\n",
            "          20      1.000     1.000     1.000        78\n",
            "          21      1.000     1.000     1.000        68\n",
            "          22      0.985     1.000     0.993        67\n",
            "          23      1.000     1.000     1.000        56\n",
            "          24      1.000     1.000     1.000        80\n",
            "          25      1.000     0.989     0.994        88\n",
            "          26      1.000     1.000     1.000        43\n",
            "          27      1.000     0.961     0.980        51\n",
            "          28      0.980     1.000     0.990        48\n",
            "          29      1.000     1.000     1.000        38\n",
            "          30      1.000     1.000     1.000        45\n",
            "          31      1.000     0.980     0.990        49\n",
            "          32      0.978     1.000     0.989        45\n",
            "          33      1.000     1.000     1.000        69\n",
            "          34      1.000     0.988     0.994        86\n",
            "          35      1.000     1.000     1.000        53\n",
            "          36      0.980     1.000     0.990        48\n",
            "          37      1.000     1.000     1.000        88\n",
            "          38      1.000     1.000     1.000        84\n",
            "          39      1.000     1.000     1.000        83\n",
            "          40      1.000     1.000     1.000       102\n",
            "          41      1.000     0.987     0.993        75\n",
            "          42      1.000     1.000     1.000       168\n",
            "\n",
            "    accuracy                          0.998      3034\n",
            "   macro avg      0.997     0.997     0.997      3034\n",
            "weighted avg      0.998     0.998     0.998      3034\n",
            "\n"
          ]
        },
        {
          "data": {
            "image/png": "[encoded data removed]",
            "text/plain": [
              "<Figure size 432x288 with 2 Axes>"
            ]
          },
          "metadata": {},
          "output_type": "display_data"
        },
        {
          "data": {
            "text/plain": [
              "<Figure size 1440x1440 with 0 Axes>"
            ]
          },
          "metadata": {},
          "output_type": "display_data"
        }
      ],
      "source": [
        "from sklearn.linear_model import LogisticRegression\n",
        "from sklearn import metrics\n",
        "from sklearn import preprocessing\n",
        "import seaborn as sb\n",
        "import matplotlib.pyplot as plt\n",
        "%matplotlib inline\n",
        "\n",
        "\n",
        "print('Mean Absolute Error:', metrics.mean_absolute_error(y_true, y_pred))\n",
        "print('Accuracy: %s' % metrics.accuracy_score(y_true, y_pred))\n",
        "print(metrics.classification_report(y_true, y_pred, digits=3))\n",
        "cm = metrics.confusion_matrix(y_pred, y_true)\n",
        "sb.set(font_scale=1.3)\n",
        "sb.heatmap(cm, annot=True)\n",
        "plt.figure(figsize=(20,20))\n",
        "plt.show() # 0: died, 1: euthanized, 2: lived"
      ]
    },
    {
      "cell_type": "markdown",
      "metadata": {
        "id": "fnz4HiXvQFJx"
      },
      "source": [
        "PipeLine"
      ]
    },
    {
      "cell_type": "code",
      "execution_count": null,
      "metadata": {
        "colab": {
          "base_uri": "https://localhost:8080/"
        },
        "id": "6kIqrGgarXQq",
        "outputId": "c3ad0db1-b9a9-4b62-9286-f9fcb17eef60"
      },
      "outputs": [
        {
          "name": "stdout",
          "output_type": "stream",
          "text": [
            "Looking in indexes: https://pypi.org/simple, https://us-python.pkg.dev/colab-wheels/public/simple/\n",
            "Collecting mediapipe\n",
            "  Downloading mediapipe-0.8.10-cp37-cp37m-manylinux_2_17_x86_64.manylinux2014_x86_64.whl (32.8 MB)\n",
            "\u001b[K     |████████████████████████████████| 32.8 MB 1.3 MB/s \n",
            "\u001b[?25hRequirement already satisfied: protobuf>=3.11.4 in /usr/local/lib/python3.7/dist-packages (from mediapipe) (3.17.3)\n",
            "Requirement already satisfied: matplotlib in /usr/local/lib/python3.7/dist-packages (from mediapipe) (3.2.2)\n",
            "Requirement already satisfied: opencv-contrib-python in /usr/local/lib/python3.7/dist-packages (from mediapipe) (4.1.2.30)\n",
            "Requirement already satisfied: absl-py in /usr/local/lib/python3.7/dist-packages (from mediapipe) (1.0.0)\n",
            "Requirement already satisfied: numpy in /usr/local/lib/python3.7/dist-packages (from mediapipe) (1.21.6)\n",
            "Requirement already satisfied: attrs>=19.1.0 in /usr/local/lib/python3.7/dist-packages (from mediapipe) (21.4.0)\n",
            "Requirement already satisfied: six>=1.9 in /usr/local/lib/python3.7/dist-packages (from protobuf>=3.11.4->mediapipe) (1.15.0)\n",
            "Requirement already satisfied: kiwisolver>=1.0.1 in /usr/local/lib/python3.7/dist-packages (from matplotlib->mediapipe) (1.4.2)\n",
            "Requirement already satisfied: cycler>=0.10 in /usr/local/lib/python3.7/dist-packages (from matplotlib->mediapipe) (0.11.0)\n",
            "Requirement already satisfied: python-dateutil>=2.1 in /usr/local/lib/python3.7/dist-packages (from matplotlib->mediapipe) (2.8.2)\n",
            "Requirement already satisfied: pyparsing!=2.0.4,!=2.1.2,!=2.1.6,>=2.0.1 in /usr/local/lib/python3.7/dist-packages (from matplotlib->mediapipe) (3.0.9)\n",
            "Requirement already satisfied: typing-extensions in /usr/local/lib/python3.7/dist-packages (from kiwisolver>=1.0.1->matplotlib->mediapipe) (4.2.0)\n",
            "Installing collected packages: mediapipe\n",
            "Successfully installed mediapipe-0.8.10\n"
          ]
        }
      ],
      "source": [
        "!pip install mediapipe"
      ]
    },
    {
      "cell_type": "code",
      "execution_count": null,
      "metadata": {
        "id": "BzLY2CfDrdw6"
      },
      "outputs": [],
      "source": [
        "import mediapipe as mp\n",
        "import time\n",
        " \n",
        "ROOT = \"/content/drive/MyDrive/MP sign language\"\n",
        "\n",
        "class handDetector():\n",
        "    def __init__(self, mode=False, maxHands=2,modelC=1, detectionCon=0.5, trackCon=0.5):\n",
        "        self.mode = mode\n",
        "        self.maxHands = maxHands\n",
        "        self.detectionCon = detectionCon\n",
        "        self.trackCon = trackCon\n",
        "        self.modelC = modelC\n",
        "        self.mpHands = mp.solutions.hands\n",
        "        self.hands = self.mpHands.Hands(self.mode, self.maxHands,self.modelC,\n",
        "                                        self.detectionCon, self.trackCon)\n",
        "        self.mpDraw = mp.solutions.drawing_utils\n",
        " \n",
        "    def findHands(self, img, draw=True):\n",
        "        imgRGB = cv2.cvtColor(img, cv2.COLOR_BGR2RGB)\n",
        "        self.results = self.hands.process(imgRGB)\n",
        "        # print(self.results.multi_hand_landmarks)\n",
        "        # print(len(self.results.multi_hand_landmarks))\n",
        "        # if self.results.multi_hand_landmarks:\n",
        "        #     for handLms in self.results.multi_hand_landmarks:\n",
        "        #         # print(\"hand\", handLms)\n",
        "        #         if draw:\n",
        "        #             self.mpDraw.draw_landmarks(img, handLms,)\n",
        "                                              #  self.mpHands.HAND_CONNECTIONS)\n",
        "                    \n",
        "        return img,self.results.multi_hand_landmarks \n",
        " \n",
        "    def findPosition(self, img, handNo=0, draw=True):\n",
        " \n",
        "        lmList = []\n",
        "        if self.results.multi_hand_landmarks:\n",
        "            myHand = self.results.multi_hand_landmarks[0]\n",
        "            for id, lm in enumerate(myHand.landmark):\n",
        "                # print(id, lm)\n",
        "                h, w, c = img.shape\n",
        "                cx, cy = int(lm.x * w), int(lm.y * h)\n",
        "                # print(id, cx, cy)\n",
        "                lmList.append([id, cx, cy])\n",
        "                if draw:\n",
        "                    cv2.circle(img, (cx, cy), 2, (255, 0, 0), cv2.FILLED)\n",
        "            # myHand = self.results.multi_hand_landmarks[1]\n",
        "            # for id, lm in enumerate(myHand.landmark):\n",
        "            #     # print(id, lm)\n",
        "            #     h, w, c = img.shape\n",
        "            #     cx, cy = int(lm.x * w), int(lm.y * h)\n",
        "            #     # print(id, cx, cy)\n",
        "            #     lmList.append([id, cx, cy])\n",
        "            #     if draw:\n",
        "            #         cv2.circle(img, (cx, cy), 2, (0, 0, 255), cv2.FILLED)\n",
        " \n",
        "        return lmList"
      ]
    },
    {
      "cell_type": "code",
      "execution_count": null,
      "metadata": {
        "colab": {
          "base_uri": "https://localhost:8080/"
        },
        "id": "P0h4_wwizi0t",
        "outputId": "0193694e-98f3-486d-8991-0d7d80a5998c"
      },
      "outputs": [
        {
          "name": "stdout",
          "output_type": "stream",
          "text": [
            "Predicted : Hello, 0.9998636245727539\n",
            "11.062387466430664 74\n"
          ]
        }
      ],
      "source": [
        "import cv2\n",
        "from google.colab.patches import cv2_imshow\n",
        "import time, numpy as np\n",
        "detector = handDetector()\n",
        "vidcap = cv2.VideoCapture(\"/content/drive/MyDrive/MP sign language/ISL/Greetings/48. Hello/MVI_0030.MOV\")\n",
        "success,image = vidcap.read()\n",
        "\n",
        "LstmModel.reset_states()\n",
        "count = 0\n",
        "frames = []\n",
        "start = time.time()\n",
        "while success:\n",
        "  count+=1\n",
        "  # print(\"hi\")\n",
        "  # frames.append(image)   # save frame as JPEG file     \n",
        "  image, lms = detector.findHands(image)\n",
        "  if lms:\n",
        "    hand_points = []\n",
        "    for hands in lms:\n",
        "      # keypoints= []\n",
        "      for data_point in hands.landmark:\n",
        "        hand_points.append([\n",
        "              data_point.x,\n",
        "              data_point.y,\n",
        "              data_point.z,\n",
        "              ])\n",
        "      # hand_points.append(keypoints)\n",
        "    if len(lms) == 1:\n",
        "        temp_key = [[0,0,0]]*21\n",
        "        # print(\"tempppppp: \",temp_key)\n",
        "        hand_points = hand_points + temp_key\n",
        "    \n",
        "    hand_points = np.array(hand_points[:42])\n",
        "    rng = hand_points.max(axis = 0).reshape(-1, hand_points.shape[1]) - hand_points.min(axis = 0).reshape(-1, hand_points.shape[1])\n",
        "    mini = hand_points.min(axis = 0).reshape(-1, hand_points.shape[1])\n",
        "    # print(rng.shape)\n",
        "    hand_points = (hand_points - mini)/rng\n",
        "    hand_points[np.isnan(hand_points)] = 0\n",
        "    # print(hand_points.shape)\n",
        "    # hand_points = hand_points.reshape(1, -1)\n",
        "    hand_points = hand_points.reshape(1,-1)\n",
        "    # ls_out = LstmModel.predict(np.array([hand_points]))\n",
        "\n",
        "    ls_out = LstmModel.predict(np.expand_dims(hand_points, axis = 0))\n",
        "    # frames.append(hand_points)\n",
        "    pred = softModel.predict(ls_out)\n",
        "\n",
        "# print(f\"time taken : {time.time() - start}\")\n",
        "    \n",
        "  success,image = vidcap.read()\n",
        "\n",
        "print(f\"Predicted : {mapping[np.argmax(pred)]}, {pred[0][np.argmax(pred)]}\")\n",
        "  # if count==15:\n",
        "  #   print(\"Actual Word: Brother\")\n",
        "\n",
        "  #   cv2_imshow(image)\n",
        "\n",
        "  # # print('Read a new frame: ', success)\n",
        "  # count += 1\n",
        "  \n",
        "\n",
        "# for i in range(count, 109):\n",
        "#   hand_points = np.zeros((126))\n",
        "#   frames.append(hand_points)\n",
        "\n",
        "# print(np.array(frames))\n",
        "\n",
        "print(time.time() - start, count )\n",
        "# model.reset_states()\n",
        "\n",
        "# print(f\"Predicted : {mapping[np.argmax(model.predict(np.array([frames])))]}\")\n"
      ]
    },
    {
      "cell_type": "code",
      "execution_count": null,
      "metadata": {
        "id": "___56h16scwC"
      },
      "outputs": [],
      "source": [
        "import numpy as np\n",
        "class SentencePredictor:\n",
        "  def __init__(self, model, detector):\n",
        "    self.model = model\n",
        "    self.detector = detector\n",
        "    self.predCount = 0\n",
        "    self.currPred = \"\"\n",
        "    self.isPred = False\n",
        "    # self.frameCount = 0\n",
        "    self.frames = []\n",
        "  \n",
        "  def predict(self, image):\n",
        "    image, lms = detector.findHands(image)\n",
        "    if lms:\n",
        "      hand_points = []\n",
        "      for hands in lms:\n",
        "        # keypoints= []\n",
        "        for data_point in hands.landmark:\n",
        "          hand_points.append([\n",
        "                data_point.x,\n",
        "                data_point.y,\n",
        "                data_point.z,\n",
        "                ])\n",
        "        # hand_points.append(keypoints)\n",
        "      if len(lms) == 1:\n",
        "          temp_key = [[0,0,0]]*21\n",
        "          # print(\"tempppppp: \",temp_key)\n",
        "          hand_points = hand_points + temp_key\n",
        "      hand_points = np.array(hand_points)\n",
        "      rng = hand_points.max(axis = 0).reshape(-1, hand_points.shape[1]) - hand_points.min(axis = 0).reshape(-1, hand_points.shape[1])\n",
        "      mini = hand_points.min(axis = 0).reshape(-1, hand_points.shape[1])\n",
        "      # print(rng.shape)\n",
        "      hand_points = (hand_points - mini)/rng\n",
        "      hand_points[np.isnan(hand_points)] = 0\n",
        "      self.frames.append(hand_points)\n",
        "\n",
        "\n",
        "\n",
        "      if len(self.frames) > 20:\n",
        "        # print(len(self.frames))\n",
        "        if len(self.frames) > 109:\n",
        "          self.frames.pop(0)\n",
        "        frames = list(self.frames)\n",
        "        for j in range(len(frames), X.shape[1]):\n",
        "          frames.append(np.array([[0,0,0]]*42))\n",
        "\n",
        "        frames = np.array(frames)\n",
        "        frames = np.expand_dims(frames, axis = 0)\n",
        "        frames = frames.reshape(frames.shape[0], frames.shape[1], -1)\n",
        "        model.reset_states()\n",
        "        pred = model.predict(frames)\n",
        "        # print(pred[0][np.argmax(pred)])\n",
        "        # print(mapping[np.argmax(pred)])\n",
        "\n",
        "        if self.isPred:\n",
        "          if mapping[np.argmax(pred)] == self.currPred:\n",
        "            self.predCount +=1\n",
        "            if self.predCount >= 25:\n",
        "              self.frames = [hand_points]\n",
        "              self.isPred = False\n",
        "              self.predCount = 0 \n",
        "          else:\n",
        "            self.frames = [hand_points]\n",
        "            self.isPred = False\n",
        "            self.predCount = 0\n",
        "\n",
        "        else:\n",
        "          if mapping[np.argmax(pred)] == self.currPred:\n",
        "            self.predCount +=1\n",
        "\n",
        "          elif pred[0][np.argmax(pred)] >= 0.8:\n",
        "            self.currPred = mapping[np.argmax(pred)]\n",
        "            self.predCount = 0\n",
        "\n",
        "          if self.predCount == 15 and ~self.isPred:\n",
        "            # print(\"Found\")\n",
        "            # print(\"*********************\")\n",
        "            # print(pred[0][np.argmax(pred)])\n",
        "            print(\"Word Found:  \", mapping[np.argmax(pred)])\n",
        "            # self.frames = []\n",
        "            self.isPred = True\n",
        "            # self.predCount = 0\n",
        "            \n",
        "            return mapping[np.argmax(pred)]\n",
        "        # print(\"here\")\n",
        "        # print(pred[0][np.argmax(pred)])\n",
        "        # print(mapping[np.argmax(pred)])\n",
        "        \n",
        "      # print()  \n"
      ]
    },
    {
      "cell_type": "code",
      "execution_count": null,
      "metadata": {
        "id": "HNIqNae8QqUQ"
      },
      "outputs": [],
      "source": [
        "import numpy as np\n",
        "class SentencePredictor:\n",
        "  def __init__(self, LstmModel, softModel, detector):\n",
        "    self.LstmModel = LstmModel\n",
        "    self.softModel = softModel\n",
        "    self.detector = detector\n",
        "    self.predCount = 0\n",
        "    self.currPred = \"\"\n",
        "    self.isPred = False\n",
        "    self.frameCount = 0\n",
        "    \n",
        "  \n",
        "  def predict(self, image):\n",
        "    image, lms = detector.findHands(image)\n",
        "    if lms:\n",
        "      hand_points = []\n",
        "      for hands in lms:\n",
        "        # keypoints= []\n",
        "        for data_point in hands.landmark:\n",
        "          hand_points.append([\n",
        "                data_point.x,\n",
        "                data_point.y,\n",
        "                data_point.z,\n",
        "                ])\n",
        "        # hand_points.append(keypoints)\n",
        "      if len(lms) == 1:\n",
        "          temp_key = [[0,0,0]]*21\n",
        "          # print(\"tempppppp: \",temp_key)\n",
        "          hand_points = hand_points + temp_key\n",
        "      hand_points = np.array(hand_points[0:42])\n",
        "      rng = hand_points.max(axis = 0).reshape(-1, hand_points.shape[1]) - hand_points.min(axis = 0).reshape(-1, hand_points.shape[1])\n",
        "      mini = hand_points.min(axis = 0).reshape(-1, hand_points.shape[1])\n",
        "      # print(rng.shape)\n",
        "      hand_points = (hand_points - mini)/rng\n",
        "      hand_points[np.isnan(hand_points)] = 0\n",
        "      # print(hand_points.shape)\n",
        "      # hand_points = hand_points.reshape(1, -1)\n",
        "      hand_points = hand_points.reshape(1,-1)\n",
        "      # ls_out = LstmModel.predict(np.array([hand_points]))\n",
        "\n",
        "      ls_out = LstmModel.predict(np.expand_dims(hand_points, axis = 0))\n",
        "    \n",
        "      self.frameCount+= 1\n",
        "\n",
        "      if self.frameCount >= 20:\n",
        "        pred = self.softModel.predict(ls_out)\n",
        "        # print(mapping[np.argmax(pred)], pred[0][np.argmax(pred)], self.frameCount)\n",
        "        if mapping[np.argmax(pred)] == self.currPred:\n",
        "            self.predCount +=1\n",
        "\n",
        "        elif pred[0][np.argmax(pred)] >= 0.7:\n",
        "          self.currPred = mapping[np.argmax(pred)]\n",
        "          self.predCount = 0\n",
        "\n",
        "        if self.predCount == 5:\n",
        "          # print(\"Found\")\n",
        "          # print(\"*********************\")\n",
        "          # print(pred[0][np.argmax(pred)])\n",
        "          print(\"Word Found:  \", mapping[np.argmax(pred)])\n",
        "          # self.frames = []\n",
        "          self.predCount = 0\n",
        "          self.frameCount = 0\n",
        "          self.LstmModel.reset_states()\n",
        "\n",
        "          # self.predCount = 0\n",
        "          \n",
        "          return mapping[np.argmax(pred)]\n",
        "\n",
        "\n",
        "      \n",
        "      "
      ]
    },
    {
      "cell_type": "code",
      "execution_count": null,
      "metadata": {
        "colab": {
          "base_uri": "https://localhost:8080/"
        },
        "id": "Mxuhh7NIs9Ae",
        "outputId": "0ab62d7c-e3b9-4cfd-f3d2-3bcba8e9cf40"
      },
      "outputs": [
        {
          "name": "stdout",
          "output_type": "stream",
          "text": [
            "Word Found:   I\n",
            "Word Found:   Alright\n",
            "Word Found:   Alright\n",
            "The predicted wordset is :    I Alright Alright \n",
            "13.710983991622925\n"
          ]
        }
      ],
      "source": [
        "import cv2\n",
        "model.reset_states()\n",
        "predictor = SentencePredictor(LstmModel, softModel,handDetector())\n",
        "vidList = [\n",
        "          #  \"/content/drive/MyDrive/MP sign language/ISL/Days_and_Time/73. Today/MVI_5470.MOV\",\n",
        "          \"/content/drive/MyDrive/MP sign language/ISL/Pronouns/40. I/MVI_9957.MOV\",\n",
        "          \"/content/drive/MyDrive/MP sign language/ISL/Greetings/50. Alright/MVI_0043.MOV\"\n",
        "          #  \"/content/drive/MyDrive/MP sign language/ISL/Greetings/48. Hello/MVI_0031.MOV\",\n",
        "          #  \"/content/drive/MyDrive/MP sign language/ISL/Pronouns/40. I/MVI_9957.MOV\",\n",
        "          #  \"/content/drive/MyDrive/MP sign language/ISL/Greetings/50. Alright/MVI_0043.MOV\"\n",
        "           \n",
        "]\n",
        "phrase = \"\"\n",
        "start = time.time()\n",
        "\n",
        "for vid in vidList:\n",
        "  vidcap = cv2.VideoCapture(vid)\n",
        "  success, image = vidcap.read()\n",
        "  count = 0\n",
        "  \n",
        "  while success:\n",
        "    # print(count)\n",
        "    count += 1\n",
        "    ret = predictor.predict(image)\n",
        "    if ret != None:\n",
        "      phrase += ret + \" \"\n",
        "    success,image = vidcap.read()\n",
        "# print(\"********************************************************\")\n",
        "# vidcap = cv2.VideoCapture(\"/content/drive/MyDrive/MP sign language/ISL/People/58. Son/MVI_5219.MOV\")\n",
        "# success, image = vidcap.read()\n",
        "# while success:\n",
        "#   print(count)\n",
        "#   count += 1\n",
        "#   ret = predictor.predict(image)\n",
        "#   if ret != None:\n",
        "#     phrase += ret + \" \"\n",
        "#   success,image = vidcap.read()\n",
        "\n",
        "\n",
        "print(f\"The predicted wordset is :    {phrase}\")\n",
        "\n",
        "print(time.time() - start)\n",
        "\n",
        "\n",
        "# para_phrases = parrot.augment(input_phrase=phrase, use_gpu=False)\n",
        "# for para_phrase in para_phrases:\n",
        "#   print(\"paraphrased sentence is:   \", para_phrase[0])\n",
        "# frames = predictor.frames\n",
        "# for j in range(len(frames), X.shape[1]):\n",
        "#   frames.append(np.array([[0,0,0]]*42))\n",
        " \n",
        "# frames = np.array(frames)\n",
        "# frames = np.expand_dims(frames, axis = 0)\n",
        "# frames = frames.reshape(frames.shape[0], frames.shape[1], -1)\n",
        "\n",
        "# print(f\"time taken : {time.time() - start}\")\n",
        "# print(f\"prediction : {mapping[np.argmax(model.predict(frames))]}\")"
      ]
    },
    {
      "cell_type": "code",
      "execution_count": null,
      "metadata": {
        "id": "qNwfwmM4tCsJ"
      },
      "outputs": [],
      "source": []
    }
  ],
  "metadata": {
    "accelerator": "GPU",
    "colab": {
      "collapsed_sections": [],
      "name": "LSTMPose.ipynb",
      "provenance": []
    },
    "kernelspec": {
      "display_name": "Python 3.10.8 64-bit",
      "language": "python",
      "name": "python3"
    },
    "language_info": {
      "name": "python",
      "version": "3.10.8"
    },
    "vscode": {
      "interpreter": {
        "hash": "89e914c4e69d0d2bb3da0783a83bef05e0e042ff5d9ec7c83495da43f610b0c7"
      }
    }
  },
  "nbformat": 4,
  "nbformat_minor": 0
}
